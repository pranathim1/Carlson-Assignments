{
 "cells": [
  {
   "cell_type": "code",
   "execution_count": 61,
   "metadata": {
    "collapsed": false
   },
   "outputs": [
    {
     "data": {
      "text/html": [
       "'citation(\"mclust\")'"
      ],
      "text/latex": [
       "'citation(\"mclust\")'"
      ],
      "text/markdown": [
       "'citation(\"mclust\")'"
      ],
      "text/plain": [
       "[1] \"citation(\\\"mclust\\\")\""
      ]
     },
     "metadata": {},
     "output_type": "display_data"
    }
   ],
   "source": [
    "knitr::opts_chunk$set(echo = FALSE)\n",
    "library(magrittr)\n",
    "library(dplyr) #Attaching dplyr library\n",
    "library(tidyr) #Attaching tidyr library\n",
    "#install.packages(\"lubridate\")\n",
    "library(lubridate) #R library to work with date times.\n",
    "#install.packages(\"fastcluster\")\n",
    "library(fastcluster)\n",
    "#install.packages(\"data.table\")\n",
    "library(data.table)\n",
    "library(cluster)\n",
    "library(ggplot2)\n",
    "library(factoextra)\n",
    "library(mclust)\n",
    "'citation(\"mclust\")'\n",
    "library(class)"
   ]
  },
  {
   "cell_type": "code",
   "execution_count": 3,
   "metadata": {
    "collapsed": true
   },
   "outputs": [],
   "source": [
    "options(warn=-1)"
   ]
  },
  {
   "cell_type": "markdown",
   "metadata": {},
   "source": [
    "### Data Cleaning"
   ]
  },
  {
   "cell_type": "code",
   "execution_count": 4,
   "metadata": {
    "collapsed": false
   },
   "outputs": [
    {
     "name": "stdout",
     "output_type": "stream",
     "text": [
      "Read 3435388 rows and 26 (of 26) columns from 0.712 GB file in 00:00:21\n",
      "Classes 'data.table' and 'data.frame':\t3435388 obs. of  26 variables:\n",
      " $ PNRLocatorID        : Factor w/ 1179997 levels \"AAAACD\",\"AAAAMU\",..: 5 5 7 7 8 10 13 13 18 19 ...\n",
      " $ TicketNum           :Class 'integer64'  num [1:3435388] 1.67e-311 1.67e-311 1.67e-311 1.67e-311 1.67e-311 ...\n",
      " $ CouponSeqNbr        : int  2 1 2 1 1 1 1 1 1 1 ...\n",
      " $ ServiceStartCity    : Factor w/ 73 levels \"ANC\",\"AZA\",\"BOS\",..: 28 44 44 61 39 51 28 28 39 56 ...\n",
      " $ ServiceEndCity      : Factor w/ 80 levels \"ABE\",\"ANC\",\"AUS\",..: 52 35 70 52 52 52 52 52 52 52 ...\n",
      " $ PNRCreateDate       : Factor w/ 1146 levels \"2011-06-22\",\"2011-06-30\",..: 742 742 815 815 852 329 1074 1074 935 787 ...\n",
      " $ ServiceStartDate    : Factor w/ 730 levels \"2013-01-01\",\"2013-01-02\",..: 347 342 419 416 478 43 683 683 521 406 ...\n",
      " $ PaxName             : Factor w/ 506305 levels \"A ALZI\",\"AABEAL\",..: 55635 55635 118333 118333 415852 189529 154602 154588 267745 418837 ...\n",
      " $ EncryptedName       : Factor w/ 1448740 levels \"4120414C52484D414E44696420493F7C2067657420746869732072696768745A494144\",..: 158061 158061 330656 330656 1196791 541391 424667 424652 758612 1203806 ...\n",
      " $ GenderCode          : Factor w/ 4 levels \"\",\"F\",\"M\",\"U\": 2 2 3 3 2 3 2 3 3 3 ...\n",
      " $ birthdateid         : int  35331 35331 46161 46161 34377 39505 50874 34741 41690 38575 ...\n",
      " $ Age                 : int  66 66 37 37 69 54 25 69 49 58 ...\n",
      " $ PostalCode          : Factor w/ 8139 levels \"\",\"00000\",\"00022\",..: 1 1 1 1 1 1 1 1 1 3845 ...\n",
      " $ BkdClassOfService   : Factor w/ 3 levels \"Coach\",\"Discount First Class\",..: 1 1 1 1 1 1 1 1 1 1 ...\n",
      " $ TrvldClassOfService : Factor w/ 3 levels \"Coach\",\"Discount First Class\",..: 1 3 2 2 1 1 1 1 1 2 ...\n",
      " $ BookingChannel      : Factor w/ 29 levels \"ANC\",\"BOS\",\"DCA\",..: 18 18 23 23 22 23 23 23 22 23 ...\n",
      " $ BaseFareAmt         : num  234 234 294 294 113 ...\n",
      " $ TotalDocAmt         : num  0 0 338 338 132 ...\n",
      " $ UFlyRewardsNumber   : int  NA NA NA NA NA NA NA NA NA 202369882 ...\n",
      " $ UflyMemberStatus    : Factor w/ 3 levels \"\",\"Elite\",\"Standard\": 1 1 1 1 1 1 1 1 1 3 ...\n",
      " $ CardHolder          : Factor w/ 3 levels \"\",\"false\",\"true\": 1 1 1 1 1 1 1 1 1 2 ...\n",
      " $ BookedProduct       : Factor w/ 396 levels \"\",\"03RYPR\",\"04NY4R\",..: 50 50 1 1 1 1 289 289 258 1 ...\n",
      " $ EnrollDate          : Factor w/ 192106 levels \"\",\"2007-07-17 00:00:00.0000000\",..: 1 1 1 1 1 1 1 1 1 54964 ...\n",
      " $ MarketingFlightNbr  : Factor w/ 816 levels \"0001\",\"0003\",..: 448 447 561 556 519 685 448 448 519 549 ...\n",
      " $ MarketingAirlineCode: Factor w/ 5 levels \"DE\",\"F9\",\"FI\",..: 5 5 5 5 5 5 5 5 5 5 ...\n",
      " $ StopoverCode        : Factor w/ 3 levels \"\",\"O\",\"X\": 2 1 2 1 1 1 1 1 1 1 ...\n",
      " - attr(*, \".internal.selfref\")=<externalptr> \n"
     ]
    }
   ],
   "source": [
    "knitr::opts_chunk$set(warning = FALSE,message = FALSE)\n",
    "folder=\"C:/Users/Pranathi/Desktop/MSBA/Fall/Exploratory data analytics/Assignment 2\"\n",
    "setwd(folder)\n",
    "data<-fread(\"SunCountry.csv\",stringsAsFactors=TRUE)\n",
    "str(data)"
   ]
  },
  {
   "cell_type": "code",
   "execution_count": 5,
   "metadata": {
    "collapsed": false
   },
   "outputs": [
    {
     "data": {
      "text/plain": [
       "  PNRLocatorID       TicketNum  CouponSeqNbr   ServiceStartCity \n",
       " OPKWDG :    558   Min.   :0   Min.   :1.000   MSP    :1612636  \n",
       " DILBDW :    484   1st Qu.:0   1st Qu.:1.000   LAS    : 176026  \n",
       " KOUWAC :    466   Median :0   Median :1.000   JFK    : 139477  \n",
       " OHYPCP :    458   Mean   :0   Mean   :1.464   MCO    : 135790  \n",
       " EJYFAM :    416   3rd Qu.:0   3rd Qu.:2.000   LAX    : 131661  \n",
       " MQYFIJ :    406   Max.   :0   Max.   :8.000   SFO    : 130449  \n",
       " (Other):3432600                               (Other):1109349  \n",
       " ServiceEndCity       PNRCreateDate       ServiceStartDate      PaxName       \n",
       " MSP    :1605351   2013-12-03:  15526   2014-11-30:   8919   JOHNMA :   2336  \n",
       " LAS    : 175819   2013-12-02:  14914   2014-03-16:   8885   JOHNJA :   1590  \n",
       " MCO    : 137147   2014-01-06:  11864   2014-02-16:   8855   JOHNBR :   1440  \n",
       " JFK    : 137084   2012-11-26:  11209   2014-01-05:   8824   ANDEMA :   1394  \n",
       " LAX    : 131552   2013-12-04:  11143   2014-12-28:   8814   JOHNJE :   1361  \n",
       " SFO    : 128943   2014-09-09:  10751   2013-12-29:   8703   JOHNDA :   1306  \n",
       " (Other):1119492   (Other)   :3359981   (Other)   :3382388   (Other):3425961  \n",
       "                                                                          EncryptedName    \n",
       " 4A4F484E534F4E44696420493F7C2067657420746869732072696768744D49434841454C        :    132  \n",
       " 4A4F484E534F4E44696420493F7C2067657420746869732072696768744348524953544F50484552:    113  \n",
       " 425552444554544544696420493F7C206765742074686973207269676874524F42455254        :    109  \n",
       " 455249434B534F4E44696420493F7C2067657420746869732072696768744B494D4245524C59    :    105  \n",
       " 4A4F5244414E44696420493F7C2067657420746869732072696768744B454C4C59              :    105  \n",
       " 414E444552534F4E44696420493F7C2067657420746869732072696768744A414D4553          :    102  \n",
       " (Other)                                                                         :3434722  \n",
       " GenderCode   birthdateid           Age             PostalCode     \n",
       "  :  43999   Min.   :-675290   Min.   :-2883.00          :2744995  \n",
       " F:1770581   1st Qu.:  39620   1st Qu.:   26.00   55416  :   8822  \n",
       " M:1620768   Median :  45088   Median :   40.00   55347  :   8803  \n",
       " U:     40   Mean   :  44982   Mean   :   40.05   55311  :   7888  \n",
       "             3rd Qu.:  50251   3rd Qu.:   55.00   55044  :   7856  \n",
       "             Max.   :1112840   Max.   : 2012.00   55124  :   7059  \n",
       "             NA's   :43999     NA's   :43999      (Other): 649965  \n",
       "            BkdClassOfService             TrvldClassOfService \n",
       " Coach               :3341587   Coach               :3179137  \n",
       " Discount First Class:   1166   Discount First Class:  88686  \n",
       " First Class         :  92635   First Class         : 167565  \n",
       "                                                              \n",
       "                                                              \n",
       "                                                              \n",
       "                                                              \n",
       "              BookingChannel     BaseFareAmt      TotalDocAmt     \n",
       " Outside Booking     :1476199   Min.   :   0.0   Min.   :    0.0  \n",
       " SCA Website Booking :1457143   1st Qu.: 174.9   1st Qu.:  189.8  \n",
       " Reservations Booking: 262329   Median : 273.2   Median :  302.2  \n",
       " Tour Operator Portal: 133201   Mean   : 287.7   Mean   :  314.9  \n",
       " SY Vacation         :  94601   3rd Qu.: 370.2   3rd Qu.:  414.6  \n",
       " MSP                 :   4969   Max.   :4342.0   Max.   :17572.0  \n",
       " (Other)             :   6946                                     \n",
       " UFlyRewardsNumber   UflyMemberStatus   CardHolder      BookedProduct    \n",
       " Min.   :100000191           :2740908        :2740908          :2209904  \n",
       " 1st Qu.:200860074   Elite   :  14361   false: 659060   SSWMIR : 390853  \n",
       " Median :202968124   Standard: 680119   true :  35420   BSGTIX : 137082  \n",
       " Mean   :204242059                                      GRP    : 129515  \n",
       " 3rd Qu.:210381861                                      EXP    :  99627  \n",
       " Max.   :241086274                                      UP     :  78106  \n",
       " NA's   :2740908                                        (Other): 390301  \n",
       "                       EnrollDate      MarketingFlightNbr MarketingAirlineCode\n",
       "                            :2740908   341    :  94423    DE:      1          \n",
       " 2007-07-17 00:00:00.0000000:  21348   342    :  88211    F9:   3319          \n",
       " 2007-12-02 15:27:19.0000000:    763   504    :  76658    FI:     13          \n",
       " 2007-12-02 15:06:38.0000000:    721   503    :  73776    HA:   1705          \n",
       " 2013-01-23 15:53:24.0000000:    285   244    :  72747    SY:3430350          \n",
       " 2011-03-03 06:31:17.0000000:    145   243    :  68103                        \n",
       " (Other)                    : 671218   (Other):2961470                        \n",
       " StopoverCode\n",
       "  :1720454   \n",
       " O:1601636   \n",
       " X: 113298   \n",
       "             \n",
       "             \n",
       "             \n",
       "             "
      ]
     },
     "metadata": {},
     "output_type": "display_data"
    }
   ],
   "source": [
    "summary(data)"
   ]
  },
  {
   "cell_type": "code",
   "execution_count": 6,
   "metadata": {
    "collapsed": false
   },
   "outputs": [
    {
     "data": {
      "text/html": [
       "3073826"
      ],
      "text/latex": [
       "3073826"
      ],
      "text/markdown": [
       "3073826"
      ],
      "text/plain": [
       "[1] 3073826"
      ]
     },
     "metadata": {},
     "output_type": "display_data"
    }
   ],
   "source": [
    "#Filtering out records which have NA for BirthdateID\n",
    "#same as data <- data %>%filter(!is.na(birthdateid)) \n",
    "data%<>%filter(!is.na(birthdateid)) \n",
    "\n",
    "data$GenderCode<-as.character(data$GenderCode)\n",
    "data%<>%filter(GenderCode!=\"\")\n",
    "\n",
    "#Filtering out records which have ââ for GenderCode\n",
    "data$GenderCode<-as.factor(data$GenderCode)\n",
    "\n",
    "#Replacing negative ages with median value\n",
    "data$Age[data$Age < 0] <- median(data$Age)\n",
    "\n",
    "#Replacing age values greater than 120 with median value\n",
    "data$Age[data$Age > 120] <- median(data$Age)\n",
    "\n",
    "#Replace NAs with 0\n",
    "data$UFlyRewardsNumber[is.na(data$UFlyRewardsNumber)] <- 0\n",
    "\n",
    "#Convert factor level data to string\n",
    "data$UflyMemberStatus<-as.character(data$UflyMemberStatus)\n",
    "\n",
    "#Replace missing values with ânon-uflyâ \n",
    "data$UflyMemberStatus[data$UflyMemberStatus==''] <-\"non-ufly\"\n",
    "\n",
    "\n",
    "#Retaining only those rows which have single occurrence of PNRLocatorID, CouponSeqNbr, PaxName, \n",
    "#ServiceStartCity, ServiceEndCity, ServiceStartDate combination.\n",
    "data%<>%\n",
    "  group_by(PNRLocatorID,CouponSeqNbr,PaxName,ServiceStartCity,ServiceEndCity,ServiceStartDate)%>%\n",
    "  filter(n()==1)\n",
    "\n",
    "\n",
    "#Remove rows with faulty city codes as BookingChannel. Some rows have city names for Booking Channel.\n",
    "data$BookingChannel<-as.character(data$BookingChannel)\n",
    "data$BookingChannel[data$BookingChannel!=\"Outside Booking\" & \n",
    "                      data$BookingChannel!=\"SCA Website Booking\" & \n",
    "                      data$BookingChannel!=\"Tour Operator Portal\" & \n",
    "                      data$BookingChannel!=\"Reservations Booking\" & \n",
    "                      data$BookingChannel!=\"SY Vacation\"] <- \"Other\"\n",
    "data$BookingChannel<-as.factor(data$BookingChannel)\n",
    "\n",
    "#Remove rows with MarketingAirlineCode code other than âSYâ, the airline code for Sun Country.\n",
    "data$MarketingAirlineCode<-as.character(data$MarketingAirlineCode)\n",
    "data%<>%filter(MarketingAirlineCode==\"SY\")\n",
    "data$MarketingAirlineCode<-as.factor(data$MarketingAirlineCode)\n",
    "\n",
    "#Creating a new column called error which contains 1 if the PNR is errored or 0 otehrwise.\n",
    "#Error PNR refers to those which do not start with coupon sequence number 1.\n",
    "data%<>%group_by(PNRLocatorID)%>%\n",
    "  mutate(error= ifelse(min(CouponSeqNbr)!=1,1,0))\n",
    "\n",
    "#Retaining only the non errored rows and check how many rows are remaining.\n",
    "data%<>%filter(error==0)\n",
    "nrow(data)"
   ]
  },
  {
   "cell_type": "markdown",
   "metadata": {},
   "source": [
    "### Data Sampling\n",
    "Since the data, after transformation, has 3.2 million rows, we take a sample of the data to perform further analysis to facilitate R to handle the data with ease. Since the data is at the level of one row per flight, just taking a random sample of the rows will distort the trip details. So, we take a sample of the PNRLocatorIDs and retain all the records belonging to the sampled PNRs."
   ]
  },
  {
   "cell_type": "code",
   "execution_count": 7,
   "metadata": {
    "collapsed": true
   },
   "outputs": [],
   "source": [
    "#Obtain Unique PNRs\n",
    "uniquePNRs<-unique(data$PNRLocatorID) \n",
    "\n",
    "#To produce the same samples every time the code is run\n",
    "set.seed(1234567)\n",
    "\n",
    "\n",
    "sample_PNRs<-sample(uniquePNRs,10000)\n",
    "\n",
    "#Obtaining data related to the sampled 10,000 PNRs\n",
    "sample_data<-data%>%filter(PNRLocatorID %in% sample_PNRs)"
   ]
  },
  {
   "cell_type": "markdown",
   "metadata": {},
   "source": [
    "### Data Transformation"
   ]
  },
  {
   "cell_type": "code",
   "execution_count": 8,
   "metadata": {
    "collapsed": false
   },
   "outputs": [],
   "source": [
    "#First, create a Unique ID for each customer by concatenating Encrypted name, GenderCode and birthdateid.\n",
    "sample_data<-sample_data%>% mutate(uid=paste(EncryptedName,GenderCode,birthdateid,sep=\"\"))\n",
    "\n",
    "#Next, we bin the customers' age into 1 of 5 age buckets\n",
    "sample_data%<>%mutate(age_group = \n",
    "                        ifelse(Age>=0 & Age<18,\"0-17\",\n",
    "                               ifelse(Age>=18 & Age < 25,\"18-24\",\n",
    "                                      ifelse(Age>=25&Age<35,\"25-34\",\n",
    "                                             ifelse(Age>=35 & Age<55,\"35-54\",\n",
    "                                                    ifelse(Age>=55,\"55+\",0)\n",
    "                                                    )\n",
    "                                             )\n",
    "                                      )\n",
    "                               )\n",
    "                    )\n",
    "\n",
    "#Next, we determining the true Service Start City for each row in the data. It will be the First city from which \n",
    "#the trip started \n",
    "true_origins<-sample_data%>%\n",
    "  arrange(PNRLocatorID,CouponSeqNbr)%>%\n",
    "  group_by(PNRLocatorID,PaxName)%>%\n",
    "  do(data.frame(true_origin = first(.$ServiceStartCity)))\n",
    "\n",
    "sample_data<-merge(sample_data,true_origins,\n",
    "                   by.x=c(\"PNRLocatorID\",\"PaxName\"),\n",
    "                   by.y = c(\"PNRLocatorID\",\"PaxName\"))\n",
    "\n",
    "#Next, we determine where the trip ended. If the trip is a round trip, the service end city (Final Destination) \n",
    "#will be the same as the service start city (True Origin)\n",
    "final_destination<-sample_data%>%\n",
    "  arrange(PNRLocatorID,CouponSeqNbr)%>%\n",
    "  group_by(PNRLocatorID,PaxName)%>% \n",
    "  do(data.frame(final_destination = last(.$ServiceEndCity)))\n",
    "  \n",
    "\n",
    "sample_data<-merge(sample_data,final_destination,\n",
    "                   by.x=c(\"PNRLocatorID\",\"PaxName\"),\n",
    "                   by.y = c(\"PNRLocatorID\",\"PaxName\"))\n",
    "\n",
    "\n",
    "#Next, we determine what was the trips true destination. We assume this was the place where most time was spent on the trip.\n",
    "#Convert Service Start date to Date type\n",
    "sample_data$ServiceStartDate<-as.Date(sample_data$ServiceStartDate)\n",
    "\n",
    "#The place of maximum stay during the trip.\n",
    "diff1<-sample_data%>%\n",
    "  arrange(PNRLocatorID,CouponSeqNbr)%>%\n",
    "  group_by(PNRLocatorID,PaxName)%>%\n",
    "  mutate(stay=lead(ServiceStartDate)-ServiceStartDate,default=0)%>%\n",
    "  select(PNRLocatorID,PaxName,ServiceStartCity,ServiceEndCity,ServiceStartDate,stay)\n",
    "\n",
    "diff1$stay[is.na(diff1$stay)]<-0\n",
    "diff1$stay<-as.numeric(diff1$stay)\n",
    "\n",
    "true_destination<-diff1%>%\n",
    "  group_by(PNRLocatorID,PaxName)%>%\n",
    "  do(data.frame(true_destination= first(as.character(.$ServiceEndCity)[.$stay==max(.$stay)])))\n",
    "\n",
    "sample_data<-merge(sample_data,true_destination,\n",
    "                   by.x=c(\"PNRLocatorID\",\"PaxName\"),\n",
    "                   by.y = c(\"PNRLocatorID\",\"PaxName\"))\n",
    "\n",
    "#Next, we determine if the trip was a one-way or round-trip. The trip is considered a round trip if the service end city \n",
    "#(Final Destination) will be the same as the service start city (True Origin).\n",
    "sample_data%<>%\n",
    "  mutate(round_trip = ifelse(as.character(true_origin)==as.character(final_destination), 1, 0))\n",
    "\n",
    "#Next, we determine the group size, the number of people who traveled together in each trip.\n",
    "sample_data%<>%\n",
    "  group_by(PNRLocatorID)%>%\n",
    "  mutate(group_size= length(unique(uid)))\n",
    "\n",
    "#Next, we have a special inidcator if the group-size was 1,i.e., flown by a single customer\n",
    "sample_data%<>%\n",
    "  group_by(PNRLocatorID)%>%\n",
    "  mutate(group= ifelse(group_size>1,1,0))\n",
    "\n",
    "#Next, handle seasonality in terms of quaters. Assign Q1 to Q4 based on the quarter of the year in which the trip was made\n",
    "\n",
    "sample_data$ServiceStartDate<-as.Date(sample_data$ServiceStartDate)\n",
    "#Convert ServiceStartDate from factor to Date format\n",
    "sample_data%<>%\n",
    "  group_by(PNRLocatorID,PaxName)%>%\n",
    "  mutate(seasonality= ifelse(month(ServiceStartDate)>=1 & month(ServiceStartDate)<=3,\"Q1\",\n",
    "                             ifelse(month(ServiceStartDate)>=4 & month(ServiceStartDate)<=6,\"Q2\",\n",
    "                                    ifelse(month(ServiceStartDate)>=7 & month(ServiceStartDate)<=9,\"Q3\",\n",
    "                                           ifelse(month(ServiceStartDate)>=10 & month(ServiceStartDate)<=12,\"Q4\",0)\n",
    "                                           )\n",
    "                                    )\n",
    "                             )\n",
    "         )\n",
    "\n",
    "#Finally, we calculate the number of days the ticket was booked in advance. It is the difference between \n",
    "#PNRCreateDate and ServiceStartDate\n",
    "\n",
    "sample_data$PNRCreateDate <- as.Date(sample_data$PNRCreateDate) \n",
    "sample_data$ServiceStartDate <- as.Date(sample_data$ServiceStartDate)\n",
    "sample_data%<>% \n",
    "  mutate(days_pre_booked=as.numeric(floor( difftime(ServiceStartDate,\n",
    "                                                    PNRCreateDate,units=c(\"days\")))))"
   ]
  },
  {
   "cell_type": "code",
   "execution_count": 9,
   "metadata": {
    "collapsed": false
   },
   "outputs": [
    {
     "data": {
      "text/html": [
       "7890.28"
      ],
      "text/latex": [
       "7890.28"
      ],
      "text/markdown": [
       "7890.28"
      ],
      "text/plain": [
       "[1] 7890.28"
      ]
     },
     "metadata": {},
     "output_type": "display_data"
    },
    {
     "data": {
      "text/html": [
       "20000"
      ],
      "text/latex": [
       "20000"
      ],
      "text/markdown": [
       "20000"
      ],
      "text/plain": [
       "[1] 20000"
      ]
     },
     "metadata": {},
     "output_type": "display_data"
    }
   ],
   "source": [
    "\n",
    "#memory.limit(size=15000)\n",
    "memory.size(max=NA)\n",
    "memory.limit(size=20000)"
   ]
  },
  {
   "cell_type": "markdown",
   "metadata": {},
   "source": [
    "## Customer Segmentation\n",
    "We want to use the data to segment customers of Sun Country Airlines into general categories of people with similar \n",
    "flying patterns. The goal is to group the observations in the data into clusters such that every datum in a cluster is\n",
    "more similar to other datums in the same cluster than it is to datums in other clusters.\n",
    "\n",
    "### Change data granularity\n",
    "In order to run the segmentation algorithm, we need to first have the data at the right granularity. Since we are\n",
    "looking to segment customers, it is important to bring the data to the granularity of customers. We transform the data\n",
    "such that each row represents a unique customer-PNR combination.\n"
   ]
  },
  {
   "cell_type": "code",
   "execution_count": 10,
   "metadata": {
    "collapsed": false
   },
   "outputs": [
    {
     "name": "stderr",
     "output_type": "stream",
     "text": [
      "Adding missing grouping variables: `PNRLocatorID`\n"
     ]
    },
    {
     "data": {
      "text/html": [
       "26325"
      ],
      "text/latex": [
       "26325"
      ],
      "text/markdown": [
       "26325"
      ],
      "text/plain": [
       "[1] 26325"
      ]
     },
     "metadata": {},
     "output_type": "display_data"
    }
   ],
   "source": [
    "sample_data%<>%\n",
    "  select(PNRLocatorID, uid, PaxName, ServiceStartDate, BookingChannel, TotalDocAmt,\n",
    "         UFlyRewardsNumber,UflyMemberStatus, age_group,true_origin,true_destination,\n",
    "         round_trip,group_size,group, seasonality,days_pre_booked)\n",
    "\n",
    "#This may take a considerable amount of time\n",
    "customer_data<-sample_data%>%\n",
    "  group_by(PNRLocatorID,uid)%>%\n",
    "  summarise( ServiceStartDate=first(ServiceStartDate),\n",
    "            BookingChannel=first(BookingChannel), \n",
    "            avg_amt=max(TotalDocAmt),\n",
    "            UFlyRewards=first(UFlyRewardsNumber),\n",
    "            UflyMemberStatus=first(UflyMemberStatus),\n",
    "            age_group=last(age_group),\n",
    "            true_origin=first(true_origin),\n",
    "            true_destination=first(true_destination),\n",
    "            round_trip=first(round_trip),\n",
    "            group_size=first(group_size),\n",
    "            group=first(group), \n",
    "            seasonality=last(seasonality), \n",
    "            days_pre_booked=max(days_pre_booked))\n",
    "\n",
    "#Retaining only those attributes that are meaningful for clustering\n",
    "customer_data%<>%\n",
    "  select(-PNRLocatorID,-uid,-ServiceStartDate,-UFlyRewards)\n",
    "  nrow(sample_data)"
   ]
  },
  {
   "cell_type": "code",
   "execution_count": 11,
   "metadata": {
    "collapsed": false
   },
   "outputs": [
    {
     "data": {
      "text/html": [
       "15181"
      ],
      "text/latex": [
       "15181"
      ],
      "text/markdown": [
       "15181"
      ],
      "text/plain": [
       "[1] 15181"
      ]
     },
     "metadata": {},
     "output_type": "display_data"
    },
    {
     "name": "stdout",
     "output_type": "stream",
     "text": [
      "Classes 'grouped_df', 'tbl_df', 'tbl' and 'data.frame':\t15181 obs. of  12 variables:\n",
      " $ PNRLocatorID    : Factor w/ 1179997 levels \"AAAACD\",\"AAAAMU\",..: 337 340 340 340 340 356 447 462 468 468 ...\n",
      " $ BookingChannel  : Factor w/ 6 levels \"Other\",\"Outside Booking\",..: 4 2 2 2 2 2 2 2 4 4 ...\n",
      " $ avg_amt         : num  408 1301 1301 1301 1301 ...\n",
      " $ UflyMemberStatus: chr  \"Standard\" \"non-ufly\" \"non-ufly\" \"non-ufly\" ...\n",
      " $ age_group       : chr  \"0-17\" \"35-54\" \"0-17\" \"35-54\" ...\n",
      " $ true_origin     : Factor w/ 73 levels \"ANC\",\"AZA\",\"BOS\",..: 44 44 44 44 44 61 8 3 28 28 ...\n",
      " $ true_destination: chr  \"JFK\" \"LIR\" \"LIR\" \"LIR\" ...\n",
      " $ round_trip      : num  1 1 1 1 1 0 1 0 1 1 ...\n",
      " $ group_size      : int  1 4 4 4 4 1 1 1 2 2 ...\n",
      " $ group           : num  0 1 1 1 1 0 0 0 1 1 ...\n",
      " $ seasonality     : chr  \"Q3\" \"Q1\" \"Q1\" \"Q1\" ...\n",
      " $ days_pre_booked : num  60 80 80 80 80 69 25 1 9 9 ...\n",
      " - attr(*, \"vars\")=List of 1\n",
      "  ..$ : symbol PNRLocatorID\n",
      " - attr(*, \"drop\")= logi TRUE\n",
      " - attr(*, \"indices\")=List of 10000\n",
      "  ..$ : int 0\n",
      "  ..$ : int  1 2 3 4\n",
      "  ..$ : int 5\n",
      "  ..$ : int 6\n",
      "  ..$ : int 7\n",
      "  ..$ : int  8 9\n",
      "  ..$ : int 10\n",
      "  ..$ : int  11 12\n",
      "  ..$ : int 13\n",
      "  ..$ : int 14\n",
      "  ..$ : int 15\n",
      "  ..$ : int 16\n",
      "  ..$ : int  17 18\n",
      "  ..$ : int 19\n",
      "  ..$ : int  20 21\n",
      "  ..$ : int 22\n",
      "  ..$ : int 23\n",
      "  ..$ : int  24 25 26\n",
      "  ..$ : int 27\n",
      "  ..$ : int 28\n",
      "  ..$ : int  29 30\n",
      "  ..$ : int 31\n",
      "  ..$ : int  32 33 34 35\n",
      "  ..$ : int  36 37\n",
      "  ..$ : int 38\n",
      "  ..$ : int  39 40\n",
      "  ..$ : int 41\n",
      "  ..$ : int 42\n",
      "  ..$ : int  43 44 45 46 47\n",
      "  ..$ : int 48\n",
      "  ..$ : int 49\n",
      "  ..$ : int  50 51\n",
      "  ..$ : int  52 53\n",
      "  ..$ : int 54\n",
      "  ..$ : int 55\n",
      "  ..$ : int 56\n",
      "  ..$ : int 57\n",
      "  ..$ : int  58 59 60\n",
      "  ..$ : int 61\n",
      "  ..$ : int  62 63\n",
      "  ..$ : int 64\n",
      "  ..$ : int  65 66\n",
      "  ..$ : int 67\n",
      "  ..$ : int 68\n",
      "  ..$ : int  69 70\n",
      "  ..$ : int 71\n",
      "  ..$ : int 72\n",
      "  ..$ : int  73 74 75 76\n",
      "  ..$ : int 77\n",
      "  ..$ : int 78\n",
      "  ..$ : int 79\n",
      "  ..$ : int 80\n",
      "  ..$ : int 81\n",
      "  ..$ : int  82 83\n",
      "  ..$ : int 84\n",
      "  ..$ : int  85 86\n",
      "  ..$ : int  87 88\n",
      "  ..$ : int 89\n",
      "  ..$ : int 90\n",
      "  ..$ : int 91\n",
      "  ..$ : int 92\n",
      "  ..$ : int 93\n",
      "  ..$ : int 94\n",
      "  ..$ : int  95 96\n",
      "  ..$ : int 97\n",
      "  ..$ : int 98\n",
      "  ..$ : int 99\n",
      "  ..$ : int  100 101\n",
      "  ..$ : int  102 103\n",
      "  ..$ : int  104 105\n",
      "  ..$ : int 106\n",
      "  ..$ : int 107\n",
      "  ..$ : int 108\n",
      "  ..$ : int 109\n",
      "  ..$ : int 110\n",
      "  ..$ : int 111\n",
      "  ..$ : int 112\n",
      "  ..$ : int 113\n",
      "  ..$ : int 114\n",
      "  ..$ : int  115 116\n",
      "  ..$ : int 117\n",
      "  ..$ : int  118 119\n",
      "  ..$ : int 120\n",
      "  ..$ : int 121\n",
      "  ..$ : int 122\n",
      "  ..$ : int  123 124\n",
      "  ..$ : int  125 126\n",
      "  ..$ : int  127 128\n",
      "  ..$ : int 129\n",
      "  ..$ : int 130\n",
      "  ..$ : int 131\n",
      "  ..$ : int 132\n",
      "  ..$ : int 133\n",
      "  ..$ : int  134 135\n",
      "  ..$ : int 136\n",
      "  ..$ : int 137\n",
      "  ..$ : int  138 139\n",
      "  ..$ : int 140\n",
      "  ..$ : int 141\n",
      "  .. [list output truncated]\n",
      " - attr(*, \"group_sizes\")= int  1 4 1 1 1 2 1 2 1 1 ...\n",
      " - attr(*, \"biggest_group_size\")= int 9\n",
      " - attr(*, \"labels\")='data.frame':\t10000 obs. of  1 variable:\n",
      "  ..$ PNRLocatorID: Factor w/ 1179997 levels \"AAAACD\",\"AAAAMU\",..: 337 340 356 447 462 468 547 958 966 1022 ...\n",
      "  ..- attr(*, \"vars\")=List of 1\n",
      "  .. ..$ : symbol PNRLocatorID\n",
      "  ..- attr(*, \"drop\")= logi TRUE\n"
     ]
    }
   ],
   "source": [
    "#Granularity of data was reduced to customer level\n",
    "nrow(customer_data)\n",
    "str(customer_data)"
   ]
  },
  {
   "cell_type": "markdown",
   "metadata": {},
   "source": [
    "### Units and Scaling\n",
    "The initial understanding of the data has shown us that this contains attributes of different units. Units affect what\n",
    "clustering algorithms will discover. One way to try to make the clustering more coordinate- free is to transform all \n",
    "the columns to have a value between 0 and 1. This is called Normalization. There are multiple techniques of achieving \n",
    "normalization. We will be using the min-max normalization technique."
   ]
  },
  {
   "cell_type": "code",
   "execution_count": 12,
   "metadata": {
    "collapsed": false
   },
   "outputs": [],
   "source": [
    "#Min-Max normalization: x= x-max/max-min\n",
    "normalize <- function(x){return ((x - min(x))/(max(x) - min(x)))}\n",
    "\n",
    "customer_data <- ungroup(customer_data)\n",
    "\n",
    "customer_data_km = mutate(customer_data,\n",
    "                     avg_amt = normalize(avg_amt),\n",
    "                     days_pre_booked = normalize(days_pre_booked),\n",
    "                     group_size=normalize(group_size))"
   ]
  },
  {
   "cell_type": "code",
   "execution_count": 13,
   "metadata": {
    "collapsed": false
   },
   "outputs": [
    {
     "name": "stdout",
     "output_type": "stream",
     "text": [
      "Classes 'tbl_df', 'tbl' and 'data.frame':\t15181 obs. of  9 variables:\n",
      " $ BookingChannel  : Factor w/ 6 levels \"Other\",\"Outside Booking\",..: 4 2 2 2 2 2 2 2 4 4 ...\n",
      " $ avg_amt         : num  0.236 0.753 0.753 0.753 0.753 ...\n",
      " $ UflyMemberStatus: chr  \"Standard\" \"non-ufly\" \"non-ufly\" \"non-ufly\" ...\n",
      " $ age_group       : chr  \"0-17\" \"35-54\" \"0-17\" \"35-54\" ...\n",
      " $ round_trip      : num  1 1 1 1 1 0 1 0 1 1 ...\n",
      " $ group_size      : num  0 0.375 0.375 0.375 0.375 0 0 0 0.125 0.125 ...\n",
      " $ group           : num  0 1 1 1 1 0 0 0 1 1 ...\n",
      " $ seasonality     : chr  \"Q3\" \"Q1\" \"Q1\" \"Q1\" ...\n",
      " $ days_pre_booked : num  0.114 0.152 0.152 0.152 0.152 ...\n"
     ]
    }
   ],
   "source": [
    "customer_data_km_1<-select(customer_data_km,-PNRLocatorID, -true_origin, -true_destination)\n",
    "str(customer_data_km_1)"
   ]
  },
  {
   "cell_type": "markdown",
   "metadata": {},
   "source": [
    "### Mixed Distance Calculation"
   ]
  },
  {
   "cell_type": "code",
   "execution_count": 14,
   "metadata": {
    "collapsed": false
   },
   "outputs": [],
   "source": [
    "#Gover distance calculation\n",
    "\n",
    "#install.packages()\n",
    "cols <- c(\"UflyMemberStatus\",\"age_group\",\"seasonality\")\n",
    "customer_data_km_1[cols] <- lapply(customer_data_km_1[cols], as.factor)\n",
    "\n",
    "\n",
    "distance_gower <- daisy(customer_data_km_1,metric =\"gower\", stand = FALSE)\n"
   ]
  },
  {
   "cell_type": "code",
   "execution_count": 15,
   "metadata": {
    "collapsed": false
   },
   "outputs": [
    {
     "name": "stdout",
     "output_type": "stream",
     "text": [
      "Classes 'tbl_df', 'tbl' and 'data.frame':\t15181 obs. of  9 variables:\n",
      " $ BookingChannel  : Factor w/ 6 levels \"Other\",\"Outside Booking\",..: 4 2 2 2 2 2 2 2 4 4 ...\n",
      " $ avg_amt         : num  0.236 0.753 0.753 0.753 0.753 ...\n",
      " $ UflyMemberStatus: Factor w/ 3 levels \"Elite\",\"non-ufly\",..: 3 2 2 2 2 2 2 1 2 2 ...\n",
      " $ age_group       : Factor w/ 5 levels \"0-17\",\"18-24\",..: 1 4 1 4 1 2 2 4 3 3 ...\n",
      " $ round_trip      : num  1 1 1 1 1 0 1 0 1 1 ...\n",
      " $ group_size      : num  0 0.375 0.375 0.375 0.375 0 0 0 0.125 0.125 ...\n",
      " $ group           : num  0 1 1 1 1 0 0 0 1 1 ...\n",
      " $ seasonality     : Factor w/ 4 levels \"Q1\",\"Q2\",\"Q3\",..: 3 1 1 1 1 3 4 4 4 4 ...\n",
      " $ days_pre_booked : num  0.114 0.152 0.152 0.152 0.152 ...\n"
     ]
    }
   ],
   "source": [
    "str(customer_data_km_1)"
   ]
  },
  {
   "cell_type": "markdown",
   "metadata": {},
   "source": [
    "### K-Means Clustering"
   ]
  },
  {
   "cell_type": "code",
   "execution_count": 16,
   "metadata": {
    "collapsed": false
   },
   "outputs": [],
   "source": [
    "customer_data_km_2<-select(customer_data_km_1,-BookingChannel, -UflyMemberStatus,-age_group, -round_trip, -group, -seasonality)\n",
    "#Numerical variables distance matrix\n",
    "\n",
    "dist_km = dist(customer_data_km_2, method = \"euclidean\")\n"
   ]
  },
  {
   "cell_type": "code",
   "execution_count": 17,
   "metadata": {
    "collapsed": false
   },
   "outputs": [
    {
     "data": {
      "text/plain": [
       "   Min. 1st Qu.  Median    Mean 3rd Qu.    Max. \n",
       " 0.0000  0.1521  0.2420  0.2695  0.3687  1.3610 "
      ]
     },
     "metadata": {},
     "output_type": "display_data"
    }
   ],
   "source": [
    "summary(dist_km)"
   ]
  },
  {
   "cell_type": "code",
   "execution_count": 18,
   "metadata": {
    "collapsed": false,
    "scrolled": true
   },
   "outputs": [
    {
     "data": {
      "image/png": "[encoded data removed]",
      "text/plain": [
       "plot without title"
      ]
     },
     "metadata": {},
     "output_type": "display_data"
    },
    {
     "data": {
      "image/png": "[encoded data removed]",
      "text/plain": [
       "plot without title"
      ]
     },
     "metadata": {},
     "output_type": "display_data"
    }
   ],
   "source": [
    "#SSE\n",
    "SSE_curve <- c()\n",
    "sil_curve <- c()\n",
    "\n",
    "for (n in 2:15) {\n",
    "  kcluster <- kmeans(customer_data_km_2, n)\n",
    "  sse <- sum(kcluster$withinss)\n",
    "  sil <- mean(silhouette(kcluster$cluster,dist_km)[, 3])\n",
    "  SSE_curve[n] <- sse\n",
    "  sil_curve[n] <- sil           \n",
    "}\n",
    "\n",
    "plot(1:15, sil_curve, type = \"b\", pch = 19, frame = FALSE, xlab = \"k\")\n",
    "abline(v = which.max(sil_curve), lty = 2)\n",
    "\n",
    "plot(1:15, SSE_curve, type = \"b\", pch = 19, frame = FALSE, xlab = \"k\")\n",
    "abline(v = which.max(SSE_curve), lty = 2)\n",
    "\n",
    "\n"
   ]
  },
  {
   "cell_type": "markdown",
   "metadata": {},
   "source": [
    "From silhoutee coeffcient plot, K = 5 has good cluster quality compared to other K's"
   ]
  },
  {
   "cell_type": "code",
   "execution_count": 25,
   "metadata": {
    "collapsed": false
   },
   "outputs": [
    {
     "data": {
      "image/png": "[encoded data removed]",
      "text/plain": [
       "Plot with title \"CLUSPLOT( customer_data_km_2 )\""
      ]
     },
     "metadata": {},
     "output_type": "display_data"
    }
   ],
   "source": [
    "#Visualization of clusters\n",
    "\n",
    "clusters <- kmeans(customer_data_km_2,5)\n",
    "clusplot(customer_data_km_2, clusters$cluster, cex=1, col.p=clusters$cluster)\n",
    "\n"
   ]
  },
  {
   "cell_type": "markdown",
   "metadata": {},
   "source": [
    "### K-Mediods"
   ]
  },
  {
   "cell_type": "code",
   "execution_count": 20,
   "metadata": {
    "collapsed": false
   },
   "outputs": [],
   "source": [
    "sil_coeff_med <- c()\n",
    "\n",
    "for(n in 2:8)\n",
    "{part_med <- pam(distance_gower,\n",
    "                 diss = TRUE,\n",
    "                 k = n)\n",
    " sil_coeff_med[n] <- part_med$silinfo$avg.width\n",
    "}"
   ]
  },
  {
   "cell_type": "code",
   "execution_count": 21,
   "metadata": {
    "collapsed": false,
    "scrolled": true
   },
   "outputs": [
    {
     "data": {
      "image/png": "[encoded data removed]",
      "text/plain": [
       "plot without title"
      ]
     },
     "metadata": {},
     "output_type": "display_data"
    }
   ],
   "source": [
    "plot(1:8, sil_coeff_med,\n",
    "     xlab = \"k\",\n",
    "     ylab = \"Silhouette coefficient\")\n",
    "lines(1:8, sil_coeff_med)"
   ]
  },
  {
   "cell_type": "markdown",
   "metadata": {},
   "source": [
    "For K-mediods, K = 7 has good cluster quality but not better than K-means"
   ]
  },
  {
   "cell_type": "markdown",
   "metadata": {},
   "source": [
    "### Hierarchial Clustering"
   ]
  },
  {
   "cell_type": "code",
   "execution_count": 22,
   "metadata": {
    "collapsed": false
   },
   "outputs": [
    {
     "data": {},
     "metadata": {},
     "output_type": "display_data"
    },
    {
     "data": {
      "image/png": "[encoded data removed]",
      "text/plain": [
       "plot without title"
      ]
     },
     "metadata": {},
     "output_type": "display_data"
    }
   ],
   "source": [
    "#Hierarchial clustering - mixed variables\n",
    "fviz_nbclust(customer_data_km_1,hcut,diss = distance_gower, method = \"silhouette\",hc_method = \"ward.D2\") "
   ]
  },
  {
   "cell_type": "code",
   "execution_count": 23,
   "metadata": {
    "collapsed": false
   },
   "outputs": [
    {
     "data": {},
     "metadata": {},
     "output_type": "display_data"
    },
    {
     "data": {
      "image/png": "[encoded data removed]",
      "text/plain": [
       "plot without title"
      ]
     },
     "metadata": {},
     "output_type": "display_data"
    }
   ],
   "source": [
    "fviz_nbclust(customer_data_km_2,hcut,diss = dist_km, method = \"silhouette\",hc_method = \"ward.D2\")"
   ]
  },
  {
   "cell_type": "markdown",
   "metadata": {},
   "source": [
    "Out of all the methods, K-means gives the best clusters"
   ]
  },
  {
   "cell_type": "markdown",
   "metadata": {},
   "source": [
    "### K-Means Cluster Analysis"
   ]
  },
  {
   "cell_type": "code",
   "execution_count": 42,
   "metadata": {
    "collapsed": false
   },
   "outputs": [],
   "source": [
    "k_means <- customer_data\n",
    "k_means$cluster <- clusters$cluster\n",
    "k_means$cluster <- as.factor(k_means$cluster)"
   ]
  },
  {
   "cell_type": "code",
   "execution_count": 43,
   "metadata": {
    "collapsed": false
   },
   "outputs": [
    {
     "data": {
      "text/plain": [
       "  PNRLocatorID                BookingChannel    avg_amt      \n",
       " JVTPTI :    9   Other               :  60   Min.   :   0.0  \n",
       " QYTONT :    9   Outside Booking     :6697   1st Qu.: 163.9  \n",
       " FFNXHO :    8   Reservations Booking: 591   Median : 277.8  \n",
       " HVKYVF :    8   SCA Website Booking :7038   Mean   : 293.5  \n",
       " JTVXVW :    8   SY Vacation         : 296   3rd Qu.: 388.8  \n",
       " AJRVGF :    7   Tour Operator Portal: 499   Max.   :1727.2  \n",
       " (Other):15132                                               \n",
       " UflyMemberStatus    age_group          true_origin   true_destination  \n",
       " Length:15181       Length:15181       MSP    :9387   Length:15181      \n",
       " Class :character   Class :character   DFW    : 695   Class :character  \n",
       " Mode  :character   Mode  :character   JFK    : 683   Mode  :character  \n",
       "                                       LAX    : 600                     \n",
       "                                       SFO    : 556                     \n",
       "                                       BOS    : 496                     \n",
       "                                       (Other):2764                     \n",
       "   round_trip       group_size        group       seasonality       \n",
       " Min.   :0.0000   Min.   :1.000   Min.   :0.000   Length:15181      \n",
       " 1st Qu.:0.0000   1st Qu.:1.000   1st Qu.:0.000   Class :character  \n",
       " Median :1.0000   Median :2.000   Median :1.000   Mode  :character  \n",
       " Mean   :0.6623   Mean   :2.046   Mean   :0.573                     \n",
       " 3rd Qu.:1.0000   3rd Qu.:2.000   3rd Qu.:1.000                     \n",
       " Max.   :1.0000   Max.   :9.000   Max.   :1.000                     \n",
       "                                                                    \n",
       " days_pre_booked  cluster \n",
       " Min.   :  0.00   1:2131  \n",
       " 1st Qu.: 19.00   2:4714  \n",
       " Median : 41.00   3:4872  \n",
       " Mean   : 55.83   4:1212  \n",
       " 3rd Qu.: 76.00   5:2252  \n",
       " Max.   :528.00           \n",
       "                          "
      ]
     },
     "metadata": {},
     "output_type": "display_data"
    },
    {
     "name": "stdout",
     "output_type": "stream",
     "text": [
      "Classes 'tbl_df', 'tbl' and 'data.frame':\t15181 obs. of  13 variables:\n",
      " $ PNRLocatorID    : Factor w/ 1179997 levels \"AAAACD\",\"AAAAMU\",..: 337 340 340 340 340 356 447 462 468 468 ...\n",
      " $ BookingChannel  : Factor w/ 6 levels \"Other\",\"Outside Booking\",..: 4 2 2 2 2 2 2 2 4 4 ...\n",
      " $ avg_amt         : num  408 1301 1301 1301 1301 ...\n",
      " $ UflyMemberStatus: chr  \"Standard\" \"non-ufly\" \"non-ufly\" \"non-ufly\" ...\n",
      " $ age_group       : chr  \"0-17\" \"35-54\" \"0-17\" \"35-54\" ...\n",
      " $ true_origin     : Factor w/ 73 levels \"ANC\",\"AZA\",\"BOS\",..: 44 44 44 44 44 61 8 3 28 28 ...\n",
      " $ true_destination: chr  \"JFK\" \"LIR\" \"LIR\" \"LIR\" ...\n",
      " $ round_trip      : num  1 1 1 1 1 0 1 0 1 1 ...\n",
      " $ group_size      : int  1 4 4 4 4 1 1 1 2 2 ...\n",
      " $ group           : num  0 1 1 1 1 0 0 0 1 1 ...\n",
      " $ seasonality     : chr  \"Q3\" \"Q1\" \"Q1\" \"Q1\" ...\n",
      " $ days_pre_booked : num  60 80 80 80 80 69 25 1 9 9 ...\n",
      " $ cluster         : Factor w/ 5 levels \"1\",\"2\",\"3\",\"4\",..: 3 4 4 4 4 2 2 3 3 3 ...\n"
     ]
    }
   ],
   "source": [
    "#Final best solution\n",
    "summary(k_means)\n",
    "str(k_means)"
   ]
  },
  {
   "cell_type": "code",
   "execution_count": 56,
   "metadata": {
    "collapsed": false
   },
   "outputs": [
    {
     "data": {},
     "metadata": {},
     "output_type": "display_data"
    },
    {
     "data": {},
     "metadata": {},
     "output_type": "display_data"
    },
    {
     "data": {
      "image/png": "[encoded data removed]",
      "text/plain": [
       "plot without title"
      ]
     },
     "metadata": {},
     "output_type": "display_data"
    },
    {
     "data": {},
     "metadata": {},
     "output_type": "display_data"
    },
    {
     "data": {
      "image/png": "[encoded data removed]",
      "text/plain": [
       "plot without title"
      ]
     },
     "metadata": {},
     "output_type": "display_data"
    },
    {
     "data": {
      "image/png": "[encoded data removed]",
      "text/plain": [
       "plot without title"
      ]
     },
     "metadata": {},
     "output_type": "display_data"
    }
   ],
   "source": [
    "# Visualizing the clusters\n",
    "\n",
    "ggplot(k_means) + geom_point(aes(x=avg_amt,y=days_pre_booked, color = cluster))\n",
    "ggplot(k_means) + geom_point(aes(x=group_size,y=days_pre_booked, color = cluster))\n",
    "ggplot(k_means) + geom_point(aes(x=group_size,y=avg_amt, color = cluster))\n"
   ]
  },
  {
   "cell_type": "markdown",
   "metadata": {},
   "source": [
    "Cluster 1 is mostly distinguished by group_size. For avg amount and pre booking days, cluster 1 is all over the place"
   ]
  },
  {
   "cell_type": "code",
   "execution_count": 141,
   "metadata": {
    "collapsed": false
   },
   "outputs": [
    {
     "data": {
      "text/html": [
       "<table>\n",
       "<thead><tr><th scope=col>cluster</th><th scope=col>avg_amt</th><th scope=col>days_pre_booked</th><th scope=col>group_size</th><th scope=col>count</th></tr></thead>\n",
       "<tbody>\n",
       "\t<tr><td>1        </td><td>265.5011 </td><td> 70.18724</td><td>4.660723 </td><td>2131     </td></tr>\n",
       "\t<tr><td>2        </td><td>127.4618 </td><td> 34.02206</td><td>1.647009 </td><td>4714     </td></tr>\n",
       "\t<tr><td>3        </td><td>354.7694 </td><td> 35.80460</td><td>1.283867 </td><td>4872     </td></tr>\n",
       "\t<tr><td>4        </td><td>730.1190 </td><td> 56.44884</td><td>1.859736 </td><td>1212     </td></tr>\n",
       "\t<tr><td>5        </td><td>300.3376 </td><td>130.88988</td><td>2.152753 </td><td>2252     </td></tr>\n",
       "</tbody>\n",
       "</table>\n"
      ],
      "text/latex": [
       "\\begin{tabular}{r|lllll}\n",
       " cluster & avg\\_amt & days\\_pre\\_booked & group\\_size & count\\\\\n",
       "\\hline\n",
       "\t 1         & 265.5011  &  70.18724 & 4.660723  & 2131     \\\\\n",
       "\t 2         & 127.4618  &  34.02206 & 1.647009  & 4714     \\\\\n",
       "\t 3         & 354.7694  &  35.80460 & 1.283867  & 4872     \\\\\n",
       "\t 4         & 730.1190  &  56.44884 & 1.859736  & 1212     \\\\\n",
       "\t 5         & 300.3376  & 130.88988 & 2.152753  & 2252     \\\\\n",
       "\\end{tabular}\n"
      ],
      "text/plain": [
       "  cluster avg_amt  days_pre_booked group_size count\n",
       "1 1       265.5011  70.18724       4.660723   2131 \n",
       "2 2       127.4618  34.02206       1.647009   4714 \n",
       "3 3       354.7694  35.80460       1.283867   4872 \n",
       "4 4       730.1190  56.44884       1.859736   1212 \n",
       "5 5       300.3376 130.88988       2.152753   2252 "
      ]
     },
     "metadata": {},
     "output_type": "display_data"
    }
   ],
   "source": [
    "cluster_center<-k_means%>%\n",
    "  group_by(cluster)%>%\n",
    "  summarise(avg_amt=mean(avg_amt),\n",
    "            days_pre_booked=mean(days_pre_booked),\n",
    "            group_size=mean(group_size),\n",
    "            count=n()\n",
    "            )\n",
    "cluster_center"
   ]
  },
  {
   "cell_type": "markdown",
   "metadata": {},
   "source": [
    "## Cluster Names\n",
    "\n",
    "1- Advance booking Group Travellers\n",
    "2- Low spending single Travellers\n",
    "3- Medium spending single travellers\n",
    "4- High Spending medium advance booking travellers\n",
    "5- Advance booking Couple travellers\n"
   ]
  },
  {
   "cell_type": "code",
   "execution_count": 150,
   "metadata": {
    "collapsed": false
   },
   "outputs": [
    {
     "data": {},
     "metadata": {},
     "output_type": "display_data"
    },
    {
     "data": {
      "text/html": [
       "<table>\n",
       "<thead><tr><th scope=col>BookingChannel</th><th scope=col>cluster</th><th scope=col>percentage</th></tr></thead>\n",
       "<tbody>\n",
       "\t<tr><td>Other               </td><td>2                   </td><td>60.000000           </td></tr>\n",
       "\t<tr><td>Other               </td><td>3                   </td><td>28.333333           </td></tr>\n",
       "\t<tr><td>Other               </td><td>4                   </td><td>10.000000           </td></tr>\n",
       "\t<tr><td>Other               </td><td>5                   </td><td> 1.666667           </td></tr>\n",
       "\t<tr><td>Outside Booking     </td><td>1                   </td><td>13.379125           </td></tr>\n",
       "\t<tr><td>Outside Booking     </td><td>2                   </td><td>31.581305           </td></tr>\n",
       "\t<tr><td>Outside Booking     </td><td>3                   </td><td>34.761834           </td></tr>\n",
       "\t<tr><td>Outside Booking     </td><td>4                   </td><td> 7.451098           </td></tr>\n",
       "\t<tr><td>Outside Booking     </td><td>5                   </td><td>12.826639           </td></tr>\n",
       "\t<tr><td>Reservations Booking</td><td>1                   </td><td> 6.260575           </td></tr>\n",
       "\t<tr><td>Reservations Booking</td><td>2                   </td><td>36.379019           </td></tr>\n",
       "\t<tr><td>Reservations Booking</td><td>3                   </td><td>31.133672           </td></tr>\n",
       "\t<tr><td>Reservations Booking</td><td>4                   </td><td>14.720812           </td></tr>\n",
       "\t<tr><td>Reservations Booking</td><td>5                   </td><td>11.505922           </td></tr>\n",
       "\t<tr><td>SCA Website Booking </td><td>1                   </td><td>13.768116           </td></tr>\n",
       "\t<tr><td>SCA Website Booking </td><td>2                   </td><td>28.118784           </td></tr>\n",
       "\t<tr><td>SCA Website Booking </td><td>3                   </td><td>32.509236           </td></tr>\n",
       "\t<tr><td>SCA Website Booking </td><td>4                   </td><td> 8.269395           </td></tr>\n",
       "\t<tr><td>SCA Website Booking </td><td>5                   </td><td>17.334470           </td></tr>\n",
       "\t<tr><td>SY Vacation         </td><td>1                   </td><td>21.283784           </td></tr>\n",
       "\t<tr><td>SY Vacation         </td><td>2                   </td><td>12.162162           </td></tr>\n",
       "\t<tr><td>SY Vacation         </td><td>3                   </td><td>18.581081           </td></tr>\n",
       "\t<tr><td>SY Vacation         </td><td>4                   </td><td>12.837838           </td></tr>\n",
       "\t<tr><td>SY Vacation         </td><td>5                   </td><td>35.135135           </td></tr>\n",
       "\t<tr><td>Tour Operator Portal</td><td>1                   </td><td>33.266533           </td></tr>\n",
       "\t<tr><td>Tour Operator Portal</td><td>2                   </td><td>66.733467           </td></tr>\n",
       "</tbody>\n",
       "</table>\n"
      ],
      "text/latex": [
       "\\begin{tabular}{r|lll}\n",
       " BookingChannel & cluster & percentage\\\\\n",
       "\\hline\n",
       "\t Other                & 2                    & 60.000000           \\\\\n",
       "\t Other                & 3                    & 28.333333           \\\\\n",
       "\t Other                & 4                    & 10.000000           \\\\\n",
       "\t Other                & 5                    &  1.666667           \\\\\n",
       "\t Outside Booking      & 1                    & 13.379125           \\\\\n",
       "\t Outside Booking      & 2                    & 31.581305           \\\\\n",
       "\t Outside Booking      & 3                    & 34.761834           \\\\\n",
       "\t Outside Booking      & 4                    &  7.451098           \\\\\n",
       "\t Outside Booking      & 5                    & 12.826639           \\\\\n",
       "\t Reservations Booking & 1                    &  6.260575           \\\\\n",
       "\t Reservations Booking & 2                    & 36.379019           \\\\\n",
       "\t Reservations Booking & 3                    & 31.133672           \\\\\n",
       "\t Reservations Booking & 4                    & 14.720812           \\\\\n",
       "\t Reservations Booking & 5                    & 11.505922           \\\\\n",
       "\t SCA Website Booking  & 1                    & 13.768116           \\\\\n",
       "\t SCA Website Booking  & 2                    & 28.118784           \\\\\n",
       "\t SCA Website Booking  & 3                    & 32.509236           \\\\\n",
       "\t SCA Website Booking  & 4                    &  8.269395           \\\\\n",
       "\t SCA Website Booking  & 5                    & 17.334470           \\\\\n",
       "\t SY Vacation          & 1                    & 21.283784           \\\\\n",
       "\t SY Vacation          & 2                    & 12.162162           \\\\\n",
       "\t SY Vacation          & 3                    & 18.581081           \\\\\n",
       "\t SY Vacation          & 4                    & 12.837838           \\\\\n",
       "\t SY Vacation          & 5                    & 35.135135           \\\\\n",
       "\t Tour Operator Portal & 1                    & 33.266533           \\\\\n",
       "\t Tour Operator Portal & 2                    & 66.733467           \\\\\n",
       "\\end{tabular}\n"
      ],
      "text/plain": [
       "   BookingChannel       cluster percentage\n",
       "1  Other                2       60.000000 \n",
       "2  Other                3       28.333333 \n",
       "3  Other                4       10.000000 \n",
       "4  Other                5        1.666667 \n",
       "5  Outside Booking      1       13.379125 \n",
       "6  Outside Booking      2       31.581305 \n",
       "7  Outside Booking      3       34.761834 \n",
       "8  Outside Booking      4        7.451098 \n",
       "9  Outside Booking      5       12.826639 \n",
       "10 Reservations Booking 1        6.260575 \n",
       "11 Reservations Booking 2       36.379019 \n",
       "12 Reservations Booking 3       31.133672 \n",
       "13 Reservations Booking 4       14.720812 \n",
       "14 Reservations Booking 5       11.505922 \n",
       "15 SCA Website Booking  1       13.768116 \n",
       "16 SCA Website Booking  2       28.118784 \n",
       "17 SCA Website Booking  3       32.509236 \n",
       "18 SCA Website Booking  4        8.269395 \n",
       "19 SCA Website Booking  5       17.334470 \n",
       "20 SY Vacation          1       21.283784 \n",
       "21 SY Vacation          2       12.162162 \n",
       "22 SY Vacation          3       18.581081 \n",
       "23 SY Vacation          4       12.837838 \n",
       "24 SY Vacation          5       35.135135 \n",
       "25 Tour Operator Portal 1       33.266533 \n",
       "26 Tour Operator Portal 2       66.733467 "
      ]
     },
     "metadata": {},
     "output_type": "display_data"
    },
    {
     "data": {
      "text/html": [
       "<table>\n",
       "<thead><tr><th scope=col>BookingChannel</th><th scope=col>count</th></tr></thead>\n",
       "<tbody>\n",
       "\t<tr><td>Other               </td><td>  60                </td></tr>\n",
       "\t<tr><td>Outside Booking     </td><td>6697                </td></tr>\n",
       "\t<tr><td>Reservations Booking</td><td> 591                </td></tr>\n",
       "\t<tr><td>SCA Website Booking </td><td>7038                </td></tr>\n",
       "\t<tr><td>SY Vacation         </td><td> 296                </td></tr>\n",
       "\t<tr><td>Tour Operator Portal</td><td> 499                </td></tr>\n",
       "</tbody>\n",
       "</table>\n"
      ],
      "text/latex": [
       "\\begin{tabular}{r|ll}\n",
       " BookingChannel & count\\\\\n",
       "\\hline\n",
       "\t Other                &   60                \\\\\n",
       "\t Outside Booking      & 6697                \\\\\n",
       "\t Reservations Booking &  591                \\\\\n",
       "\t SCA Website Booking  & 7038                \\\\\n",
       "\t SY Vacation          &  296                \\\\\n",
       "\t Tour Operator Portal &  499                \\\\\n",
       "\\end{tabular}\n"
      ],
      "text/plain": [
       "  BookingChannel       count\n",
       "1 Other                  60 \n",
       "2 Outside Booking      6697 \n",
       "3 Reservations Booking  591 \n",
       "4 SCA Website Booking  7038 \n",
       "5 SY Vacation           296 \n",
       "6 Tour Operator Portal  499 "
      ]
     },
     "metadata": {},
     "output_type": "display_data"
    },
    {
     "data": {
      "image/png": "[encoded data removed]",
      "text/plain": [
       "plot without title"
      ]
     },
     "metadata": {},
     "output_type": "display_data"
    }
   ],
   "source": [
    "ggplot(k_means) + geom_bar(aes(cluster, fill = factor(BookingChannel))) \n",
    "\n",
    "booking_channel<-k_means%>%\n",
    "  group_by(BookingChannel)%>%\n",
    "  mutate(count=n())%>%\n",
    "  group_by(BookingChannel,cluster)%>%\n",
    "  mutate(percentage=(n()/count)*100)%>%\n",
    "  arrange(BookingChannel,cluster)%>%\n",
    "  summarise(percentage = max(percentage))\n",
    "\n",
    "booking_channel\n",
    "\n",
    "booking_count<-k_means%>%\n",
    "  group_by(BookingChannel)%>%\n",
    "  summarise(count=n())\n",
    "\n",
    "booking_count\n"
   ]
  },
  {
   "cell_type": "markdown",
   "metadata": {},
   "source": [
    "1. Out of all the people who use SY vacation, Advance booking couple travellers use it the most and single travellers use it the least\n",
    "2. Around 50% of the single travellers use website booking"
   ]
  },
  {
   "cell_type": "code",
   "execution_count": 154,
   "metadata": {
    "collapsed": false
   },
   "outputs": [
    {
     "data": {},
     "metadata": {},
     "output_type": "display_data"
    },
    {
     "data": {
      "text/html": [
       "<table>\n",
       "<thead><tr><th scope=col>age_group</th><th scope=col>cluster</th><th scope=col>percentage</th></tr></thead>\n",
       "<tbody>\n",
       "\t<tr><td>0-17     </td><td>1        </td><td>43.663664</td></tr>\n",
       "\t<tr><td>0-17     </td><td>2        </td><td>19.639640</td></tr>\n",
       "\t<tr><td>0-17     </td><td>3        </td><td>13.513514</td></tr>\n",
       "\t<tr><td>0-17     </td><td>4        </td><td> 6.546547</td></tr>\n",
       "\t<tr><td>0-17     </td><td>5        </td><td>16.636637</td></tr>\n",
       "\t<tr><td>18-24    </td><td>1        </td><td>11.384820</td></tr>\n",
       "\t<tr><td>18-24    </td><td>2        </td><td>38.282290</td></tr>\n",
       "\t<tr><td>18-24    </td><td>3        </td><td>35.685752</td></tr>\n",
       "\t<tr><td>18-24    </td><td>4        </td><td> 5.858855</td></tr>\n",
       "\t<tr><td>18-24    </td><td>5        </td><td> 8.788282</td></tr>\n",
       "\t<tr><td>25-34    </td><td>1        </td><td> 6.644518</td></tr>\n",
       "\t<tr><td>25-34    </td><td>2        </td><td>35.980066</td></tr>\n",
       "\t<tr><td>25-34    </td><td>3        </td><td>37.740864</td></tr>\n",
       "\t<tr><td>25-34    </td><td>4        </td><td> 6.179402</td></tr>\n",
       "\t<tr><td>25-34    </td><td>5        </td><td>13.455150</td></tr>\n",
       "\t<tr><td>35-54    </td><td>1        </td><td>14.780507</td></tr>\n",
       "\t<tr><td>35-54    </td><td>2        </td><td>29.722110</td></tr>\n",
       "\t<tr><td>35-54    </td><td>3        </td><td>33.145389</td></tr>\n",
       "\t<tr><td>35-54    </td><td>4        </td><td> 9.242851</td></tr>\n",
       "\t<tr><td>35-54    </td><td>5        </td><td>13.109142</td></tr>\n",
       "\t<tr><td>55+      </td><td>1        </td><td> 7.404656</td></tr>\n",
       "\t<tr><td>55+      </td><td>2        </td><td>31.030213</td></tr>\n",
       "\t<tr><td>55+      </td><td>3        </td><td>32.912333</td></tr>\n",
       "\t<tr><td>55+      </td><td>4        </td><td> 9.162952</td></tr>\n",
       "\t<tr><td>55+      </td><td>5        </td><td>19.489846</td></tr>\n",
       "</tbody>\n",
       "</table>\n"
      ],
      "text/latex": [
       "\\begin{tabular}{r|lll}\n",
       " age\\_group & cluster & percentage\\\\\n",
       "\\hline\n",
       "\t 0-17      & 1         & 43.663664\\\\\n",
       "\t 0-17      & 2         & 19.639640\\\\\n",
       "\t 0-17      & 3         & 13.513514\\\\\n",
       "\t 0-17      & 4         &  6.546547\\\\\n",
       "\t 0-17      & 5         & 16.636637\\\\\n",
       "\t 18-24     & 1         & 11.384820\\\\\n",
       "\t 18-24     & 2         & 38.282290\\\\\n",
       "\t 18-24     & 3         & 35.685752\\\\\n",
       "\t 18-24     & 4         &  5.858855\\\\\n",
       "\t 18-24     & 5         &  8.788282\\\\\n",
       "\t 25-34     & 1         &  6.644518\\\\\n",
       "\t 25-34     & 2         & 35.980066\\\\\n",
       "\t 25-34     & 3         & 37.740864\\\\\n",
       "\t 25-34     & 4         &  6.179402\\\\\n",
       "\t 25-34     & 5         & 13.455150\\\\\n",
       "\t 35-54     & 1         & 14.780507\\\\\n",
       "\t 35-54     & 2         & 29.722110\\\\\n",
       "\t 35-54     & 3         & 33.145389\\\\\n",
       "\t 35-54     & 4         &  9.242851\\\\\n",
       "\t 35-54     & 5         & 13.109142\\\\\n",
       "\t 55+       & 1         &  7.404656\\\\\n",
       "\t 55+       & 2         & 31.030213\\\\\n",
       "\t 55+       & 3         & 32.912333\\\\\n",
       "\t 55+       & 4         &  9.162952\\\\\n",
       "\t 55+       & 5         & 19.489846\\\\\n",
       "\\end{tabular}\n"
      ],
      "text/plain": [
       "   age_group cluster percentage\n",
       "1  0-17      1       43.663664 \n",
       "2  0-17      2       19.639640 \n",
       "3  0-17      3       13.513514 \n",
       "4  0-17      4        6.546547 \n",
       "5  0-17      5       16.636637 \n",
       "6  18-24     1       11.384820 \n",
       "7  18-24     2       38.282290 \n",
       "8  18-24     3       35.685752 \n",
       "9  18-24     4        5.858855 \n",
       "10 18-24     5        8.788282 \n",
       "11 25-34     1        6.644518 \n",
       "12 25-34     2       35.980066 \n",
       "13 25-34     3       37.740864 \n",
       "14 25-34     4        6.179402 \n",
       "15 25-34     5       13.455150 \n",
       "16 35-54     1       14.780507 \n",
       "17 35-54     2       29.722110 \n",
       "18 35-54     3       33.145389 \n",
       "19 35-54     4        9.242851 \n",
       "20 35-54     5       13.109142 \n",
       "21 55+       1        7.404656 \n",
       "22 55+       2       31.030213 \n",
       "23 55+       3       32.912333 \n",
       "24 55+       4        9.162952 \n",
       "25 55+       5       19.489846 "
      ]
     },
     "metadata": {},
     "output_type": "display_data"
    },
    {
     "data": {
      "text/html": [
       "<table>\n",
       "<thead><tr><th scope=col>age_group</th><th scope=col>count</th></tr></thead>\n",
       "<tbody>\n",
       "\t<tr><td>0-17 </td><td>1665 </td></tr>\n",
       "\t<tr><td>18-24</td><td>1502 </td></tr>\n",
       "\t<tr><td>25-34</td><td>3010 </td></tr>\n",
       "\t<tr><td>35-54</td><td>4966 </td></tr>\n",
       "\t<tr><td>55+  </td><td>4038 </td></tr>\n",
       "</tbody>\n",
       "</table>\n"
      ],
      "text/latex": [
       "\\begin{tabular}{r|ll}\n",
       " age\\_group & count\\\\\n",
       "\\hline\n",
       "\t 0-17  & 1665 \\\\\n",
       "\t 18-24 & 1502 \\\\\n",
       "\t 25-34 & 3010 \\\\\n",
       "\t 35-54 & 4966 \\\\\n",
       "\t 55+   & 4038 \\\\\n",
       "\\end{tabular}\n"
      ],
      "text/plain": [
       "  age_group count\n",
       "1 0-17      1665 \n",
       "2 18-24     1502 \n",
       "3 25-34     3010 \n",
       "4 35-54     4966 \n",
       "5 55+       4038 "
      ]
     },
     "metadata": {},
     "output_type": "display_data"
    },
    {
     "data": {
      "image/png": "[encoded data removed]",
      "text/plain": [
       "plot without title"
      ]
     },
     "metadata": {},
     "output_type": "display_data"
    }
   ],
   "source": [
    "ggplot(k_means) + geom_bar(aes(age_group, fill = factor(cluster)))\n",
    "\n",
    "age<-k_means%>%\n",
    "  group_by(age_group)%>%\n",
    "  mutate(count=n())%>%\n",
    "  group_by(age_group,cluster)%>%\n",
    "  mutate(percentage=(n()/count)*100)%>%\n",
    "  arrange(cluster,age_group)%>%\n",
    "  summarise(percentage = max(percentage))\n",
    "\n",
    "age\n",
    "\n",
    "age_count<-k_means%>%\n",
    "  group_by(age_group)%>%\n",
    "  summarise(count=n())\n",
    "\n",
    "age_count"
   ]
  },
  {
   "cell_type": "markdown",
   "metadata": {},
   "source": [
    "1. Out of all the people aged 0-17, advance booking group travellers are around 50%\n",
    "2. More than 75% of the people aged 18-24 are single travellers\n",
    "3. Advance booking couple travellers has the lowest presence in people aged 18-24\n",
    "4. Advance booking group travllers has highest presence in people aged 0-17 & 35-54\n",
    "5. Low spending single travellers has the least presence in 0-17"
   ]
  },
  {
   "cell_type": "code",
   "execution_count": 157,
   "metadata": {
    "collapsed": false
   },
   "outputs": [
    {
     "data": {},
     "metadata": {},
     "output_type": "display_data"
    },
    {
     "data": {
      "text/html": [
       "<table>\n",
       "<thead><tr><th scope=col>UflyMemberStatus</th><th scope=col>cluster</th><th scope=col>percentage</th></tr></thead>\n",
       "<tbody>\n",
       "\t<tr><td>Elite    </td><td>1        </td><td> 3.174603</td></tr>\n",
       "\t<tr><td>Elite    </td><td>2        </td><td>28.571429</td></tr>\n",
       "\t<tr><td>Elite    </td><td>3        </td><td>50.793651</td></tr>\n",
       "\t<tr><td>Elite    </td><td>4        </td><td>15.873016</td></tr>\n",
       "\t<tr><td>Elite    </td><td>5        </td><td> 1.587302</td></tr>\n",
       "\t<tr><td>non-ufly </td><td>1        </td><td>14.928149</td></tr>\n",
       "\t<tr><td>non-ufly </td><td>2        </td><td>32.459848</td></tr>\n",
       "\t<tr><td>non-ufly </td><td>3        </td><td>31.986475</td></tr>\n",
       "\t<tr><td>non-ufly </td><td>4        </td><td> 7.075232</td></tr>\n",
       "\t<tr><td>non-ufly </td><td>5        </td><td>13.550296</td></tr>\n",
       "\t<tr><td>Standard </td><td>1        </td><td>11.040146</td></tr>\n",
       "\t<tr><td>Standard </td><td>2        </td><td>26.034063</td></tr>\n",
       "\t<tr><td>Standard </td><td>3        </td><td>32.116788</td></tr>\n",
       "\t<tr><td>Standard </td><td>4        </td><td>11.100973</td></tr>\n",
       "\t<tr><td>Standard </td><td>5        </td><td>19.708029</td></tr>\n",
       "</tbody>\n",
       "</table>\n"
      ],
      "text/latex": [
       "\\begin{tabular}{r|lll}\n",
       " UflyMemberStatus & cluster & percentage\\\\\n",
       "\\hline\n",
       "\t Elite     & 1         &  3.174603\\\\\n",
       "\t Elite     & 2         & 28.571429\\\\\n",
       "\t Elite     & 3         & 50.793651\\\\\n",
       "\t Elite     & 4         & 15.873016\\\\\n",
       "\t Elite     & 5         &  1.587302\\\\\n",
       "\t non-ufly  & 1         & 14.928149\\\\\n",
       "\t non-ufly  & 2         & 32.459848\\\\\n",
       "\t non-ufly  & 3         & 31.986475\\\\\n",
       "\t non-ufly  & 4         &  7.075232\\\\\n",
       "\t non-ufly  & 5         & 13.550296\\\\\n",
       "\t Standard  & 1         & 11.040146\\\\\n",
       "\t Standard  & 2         & 26.034063\\\\\n",
       "\t Standard  & 3         & 32.116788\\\\\n",
       "\t Standard  & 4         & 11.100973\\\\\n",
       "\t Standard  & 5         & 19.708029\\\\\n",
       "\\end{tabular}\n"
      ],
      "text/plain": [
       "   UflyMemberStatus cluster percentage\n",
       "1  Elite            1        3.174603 \n",
       "2  Elite            2       28.571429 \n",
       "3  Elite            3       50.793651 \n",
       "4  Elite            4       15.873016 \n",
       "5  Elite            5        1.587302 \n",
       "6  non-ufly         1       14.928149 \n",
       "7  non-ufly         2       32.459848 \n",
       "8  non-ufly         3       31.986475 \n",
       "9  non-ufly         4        7.075232 \n",
       "10 non-ufly         5       13.550296 \n",
       "11 Standard         1       11.040146 \n",
       "12 Standard         2       26.034063 \n",
       "13 Standard         3       32.116788 \n",
       "14 Standard         4       11.100973 \n",
       "15 Standard         5       19.708029 "
      ]
     },
     "metadata": {},
     "output_type": "display_data"
    },
    {
     "data": {
      "image/png": "[encoded data removed]",
      "text/plain": [
       "plot without title"
      ]
     },
     "metadata": {},
     "output_type": "display_data"
    }
   ],
   "source": [
    "ggplot(k_means) + geom_bar(aes(UflyMemberStatus, fill = factor(cluster)),position = \"fill\")\n",
    "\n",
    "ufly<-k_means%>%\n",
    "  group_by(UflyMemberStatus)%>%\n",
    "  mutate(count=n())%>%\n",
    "  group_by(UflyMemberStatus,cluster)%>%\n",
    "  mutate(percentage=(n()/count)*100)%>%\n",
    "  summarise(percentage=max(percentage))%>%\n",
    "  arrange(UflyMemberStatus,cluster)\n",
    "\n",
    "ufly"
   ]
  },
  {
   "cell_type": "markdown",
   "metadata": {},
   "source": [
    "1. Less than 10% of elite travellers are Advance booking group travellers and Advance booking couple travellers\n",
    "2. Most of the elite group is medium spending single travellers\n",
    "3. High spending medium adv booking travellers has the least presence in non-ufly"
   ]
  },
  {
   "cell_type": "code",
   "execution_count": 104,
   "metadata": {
    "collapsed": false
   },
   "outputs": [
    {
     "data": {},
     "metadata": {},
     "output_type": "display_data"
    },
    {
     "data": {
      "image/png": "[encoded data removed]",
      "text/plain": [
       "plot without title"
      ]
     },
     "metadata": {},
     "output_type": "display_data"
    }
   ],
   "source": [
    "ggplot(k_means) + geom_bar(aes(cluster, fill = factor(round_trip)),position = \"fill\")"
   ]
  },
  {
   "cell_type": "markdown",
   "metadata": {},
   "source": [
    "1. High spending medium advance booking travellers don't book for round trips\n",
    "2. Low spending single travellers book round trips mostly"
   ]
  },
  {
   "cell_type": "code",
   "execution_count": 158,
   "metadata": {
    "collapsed": false
   },
   "outputs": [
    {
     "data": {},
     "metadata": {},
     "output_type": "display_data"
    },
    {
     "data": {
      "image/png": "[encoded data removed]",
      "text/plain": [
       "plot without title"
      ]
     },
     "metadata": {},
     "output_type": "display_data"
    }
   ],
   "source": [
    "ggplot(k_means) + geom_bar(aes(seasonality, fill = factor(cluster)),position = \"fill\")"
   ]
  },
  {
   "cell_type": "markdown",
   "metadata": {},
   "source": [
    "### Raw Data Analysis"
   ]
  },
  {
   "cell_type": "code",
   "execution_count": 164,
   "metadata": {
    "collapsed": false
   },
   "outputs": [
    {
     "data": {},
     "metadata": {},
     "output_type": "display_data"
    },
    {
     "data": {
      "image/png": "[encoded data removed]",
      "text/plain": [
       "plot without title"
      ]
     },
     "metadata": {},
     "output_type": "display_data"
    }
   ],
   "source": [
    "#age and booking channel\n",
    "ggplot(k_means) + geom_bar(aes(age_group, fill = factor(BookingChannel)),position = \"fill\")"
   ]
  },
  {
   "cell_type": "markdown",
   "metadata": {},
   "source": [
    "1. Outside booking has its highest presence in age group 18-34\n",
    "2. Website booking has its highest presence in 0-17 and 5+"
   ]
  },
  {
   "cell_type": "code",
   "execution_count": 167,
   "metadata": {
    "collapsed": false
   },
   "outputs": [
    {
     "data": {},
     "metadata": {},
     "output_type": "display_data"
    },
    {
     "data": {
      "image/png": "[encoded data removed]",
      "text/plain": [
       "plot without title"
      ]
     },
     "metadata": {},
     "output_type": "display_data"
    }
   ],
   "source": [
    "### Age and ufly memeber ship\n",
    "ggplot(k_means) + geom_bar(aes(UflyMemberStatus, fill = factor(age_group)),position = \"fill\")"
   ]
  },
  {
   "cell_type": "markdown",
   "metadata": {},
   "source": [
    " 0-17 doesn't have elite membership\n",
    "Most of the 18-24 age group doesn't have ufly member ship"
   ]
  },
  {
   "cell_type": "code",
   "execution_count": 169,
   "metadata": {
    "collapsed": false
   },
   "outputs": [
    {
     "data": {},
     "metadata": {},
     "output_type": "display_data"
    },
    {
     "data": {
      "image/png": "[encoded data removed]",
      "text/plain": [
       "plot without title"
      ]
     },
     "metadata": {},
     "output_type": "display_data"
    }
   ],
   "source": [
    "## roundtrip and uflymember ship\n",
    "ggplot(k_means) + geom_bar(aes(UflyMemberStatus, fill = factor(round_trip)),position = \"fill\")"
   ]
  },
  {
   "cell_type": "markdown",
   "metadata": {},
   "source": [
    "#### 1.How usable is the data you received from the client (Sun Country)? Given the state of the data,what steps would you take to make it usable and useful -- for the initial assigned project and for Sun Country longer term?\n",
    "\n",
    "The data used from the Client is not in a usable state due to the presence of missingvalues, faulty entries and outliers in some of the variables. Apart from the quality issues with data the other issue due to which it cannot be used to derive customer level insights is structure of the database. In the given state the data is present at ticket level that is at PNRID level, in this structure there could be several entries of customer with diffrent PNRIDs. All the attributes that are currently at a ticket level needs to be transformed into informative attributes which will help us derive invaluable customer insights.\n",
    "\n",
    "Steps to make the data usable for Project:\n",
    "1. Data Cleaning - Removal of faulty values, replacement of missing values with identifiers and treatment of outliers\n",
    "2. Data Fransformation - Create new variables at a customer level using attributes at PNR level.\n",
    "\n",
    "Steps to make the data usable for longer term:\n",
    "1. Reduction of data entry errors by employing regular data checks\n",
    "2. Efficient storage of customer data in separate data bases to ensure data integrity.Eg: separate database for customers "
   ]
  },
  {
   "cell_type": "markdown",
   "metadata": {},
   "source": [
    "#### 2. Based on what you see in the data, how many different ways can you view the information to paint a picture of different customer segments? Which ways offer Sun Country the most insights? How could the insights be used?\n",
    "\n",
    "Different ways to paint a picture of different customer segments:\n",
    "1. Creating customer segments based on numeric data: The customers can be clustered into different groups by using the numerical attrinbutes such as average amount, groupsize and days prebooked as first step and then behaviour of other attributes in these groups can be observed. The ideal number of clusters are found by evluating the clusters generated by k-means and hierarchial clustering algorithm.\n",
    "2. Using all the numerical and categorical attributes: using the hierarchial and k-mediods algorithms all the caustomer attributes can be used to categorize a group of customers. Even though all the attributes are used few dominant attributes will help classifying the customer group and help in deriving key customer insights.\n",
    "\n",
    "Out of both the methods, customer groups created using numerical attributes offered better insights.\n",
    "1. The groups formed by this method were comprised of customers who are similar each other in the group and distinct to customers in the other group. This was evident in comparison of silhoutte coefficent of all the methods and visulaizaiton of the clusters formed.\n",
    "\n",
    "Number of optimal clusters chosen were 5"
   ]
  },
  {
   "cell_type": "markdown",
   "metadata": {},
   "source": [
    "#### 3.  How would you visualize and present the insights you found for the client? What will you do in order to show Warnken and Vaughan how the insights you derived connect to their business objectives?\n",
    "\n",
    "Following are the key in sights derived from the analysis and visualition of attributes of customers in 5 clusters. The customer attributes are plotted against number of clusters individually and combined with other attributes. Some of the insights are also drawn from the visulizations.\n",
    "\n",
    "Cluster Names - are based on the cluster centers (clusters 1-5)\n",
    "\n",
    "1- Advance booking Group Travellers 2- Low spending single Travellers 3- Medium spending single travellers 4- High Spending medium advance booking travellers 5- Advance booking Couple travellers\n",
    "\n",
    "Insights drawn from the cluster analysis\n",
    "\n",
    "1.\tCluster 1 is mostly distinguished by group_size. For avg amount and pre booking days, cluster 1 is all over the place.\n",
    "2.\tOut of all the people who use SY vacation, Advance booking couple travellers use it the most and single travellers use it the least\n",
    "3.\tAround 50% of the single travellers use website booking\n",
    "4.\tOut of all the people aged 0-17, advance booking group travellers are around 50%\n",
    "5.\tMore than 75% of the people aged 18-24 are single travellers\n",
    "6.\tAdvance booking couple travellers has the lowest presence in people aged 18-24\n",
    "7.\tAdvance booking group travllers has highest presence in people aged 0-17 & 35-54\n",
    "8.\tLow spending single travellers has the least presence in 0-17\n",
    "9.\tLess than 10% of elite travellers are Advance booking group travellers and Advance booking couple travellers\n",
    "10.\tMost of the elite group is medium spending single travellers\n",
    "11.\tHigh spending medium adv booking travellers has the least presence in non-ufly\n",
    "12.\tHigh spending medium advance booking travellers don't book for round trips\n",
    "13.\tLow spending single travellers book round trips mostly\n",
    "\n",
    "Several of the above insights help in assisting the client to answer their key questions\n",
    "\n",
    "1. Performance of online booking channel ?\n",
    "2. Improving Ufly membership ?\n",
    "\n",
    "Taking decisions based on the data driven insights will involve less risk and help in formualting a strategy taking into account all the opportunities and risks.\n"
   ]
  },
  {
   "cell_type": "markdown",
   "metadata": {},
   "source": [
    "#### 4.Discuss: how much power lies in simply understanding and exploring your data? Consider the downside of focusing too much on fancy models.\n",
    "\n",
    "The following are the insights derived from the raw data analysis.\n",
    "1.  Outside booking has its highest presence in age group 18-34\n",
    "2.\tWebsite booking has its highest presence in 0-17 and 5+\n",
    "3.\tAge group 0-17 doesn't have elite membership.\n",
    "4.  Most of the 18-24 age group doesn't have ufly member ship.\n",
    "\n",
    "From developing a good understanding of the raw data and exploring it to draw insights could be very helpful in several situations. \n",
    "\n",
    "For example, the above metioned insights are derived from the analysis of raw data only but they provide key information which could be very helpful to answer the clients' key questions.\n",
    "\n",
    "The advantage of using these insights is that these can be generated much quicker since these don't involve  model building or employing algorithms which increases the amount of time taken to draw insights considering the huge volume of data.\n",
    "\n",
    "So focussing too much on fancy models may cause delay in relaizing or collecting obvious or easy to draw insights which could be very valuable to the business, using raw data draw insights which could help in taking actions faster proves to invaluable.\n",
    "\n"
   ]
  },
  {
   "cell_type": "code",
   "execution_count": null,
   "metadata": {
    "collapsed": true
   },
   "outputs": [],
   "source": []
  }
 ],
 "metadata": {
  "kernelspec": {
   "display_name": "R",
   "language": "R",
   "name": "ir"
  },
  "language_info": {
   "codemirror_mode": "r",
   "file_extension": ".r",
   "mimetype": "text/x-r-source",
   "name": "R",
   "pygments_lexer": "r",
   "version": "3.3.1"
  }
 },
 "nbformat": 4,
 "nbformat_minor": 0
}
